{
 "cells": [
  {
   "cell_type": "code",
   "execution_count": 1,
   "id": "47996f55-6311-4a60-abed-2a9ea7fc0268",
   "metadata": {
    "tags": []
   },
   "outputs": [
    {
     "name": "stdout",
     "output_type": "stream",
     "text": [
      "Requirement already satisfied: numpy==1.21.4 in /home/jupyterlab/conda/envs/python/lib/python3.7/site-packages (1.21.4)\n",
      "Requirement already satisfied: pandas==1.3.4 in /home/jupyterlab/conda/envs/python/lib/python3.7/site-packages (1.3.4)\n",
      "Requirement already satisfied: python-dateutil>=2.7.3 in /home/jupyterlab/conda/envs/python/lib/python3.7/site-packages (from pandas==1.3.4) (2.8.2)\n",
      "Requirement already satisfied: pytz>=2017.3 in /home/jupyterlab/conda/envs/python/lib/python3.7/site-packages (from pandas==1.3.4) (2023.3)\n",
      "Requirement already satisfied: numpy>=1.17.3 in /home/jupyterlab/conda/envs/python/lib/python3.7/site-packages (from pandas==1.3.4) (1.21.4)\n",
      "Requirement already satisfied: six>=1.5 in /home/jupyterlab/conda/envs/python/lib/python3.7/site-packages (from python-dateutil>=2.7.3->pandas==1.3.4) (1.16.0)\n",
      "Requirement already satisfied: keras==2.1.6 in /home/jupyterlab/conda/envs/python/lib/python3.7/site-packages (2.1.6)\n",
      "Requirement already satisfied: numpy>=1.9.1 in /home/jupyterlab/conda/envs/python/lib/python3.7/site-packages (from keras==2.1.6) (1.21.4)\n",
      "Requirement already satisfied: scipy>=0.14 in /home/jupyterlab/conda/envs/python/lib/python3.7/site-packages (from keras==2.1.6) (1.7.3)\n",
      "Requirement already satisfied: six>=1.9.0 in /home/jupyterlab/conda/envs/python/lib/python3.7/site-packages (from keras==2.1.6) (1.16.0)\n",
      "Requirement already satisfied: pyyaml in /home/jupyterlab/conda/envs/python/lib/python3.7/site-packages (from keras==2.1.6) (6.0)\n",
      "Requirement already satisfied: h5py in /home/jupyterlab/conda/envs/python/lib/python3.7/site-packages (from keras==2.1.6) (2.8.0)\n"
     ]
    }
   ],
   "source": [
    "#lets first start by importing pandas into the kernel\n",
    "!pip install numpy==1.21.4\n",
    "!pip install pandas==1.3.4\n",
    "!pip install keras==2.1.6"
   ]
  },
  {
   "cell_type": "code",
   "execution_count": 2,
   "id": "97201df3-3722-4b36-a7b2-cbe27dd4ed5f",
   "metadata": {
    "tags": []
   },
   "outputs": [],
   "source": [
    "#next we import the relevant packages\n",
    "import pandas as pd \n",
    "import numpy as np "
   ]
  },
  {
   "cell_type": "code",
   "execution_count": 3,
   "id": "8306349b-28df-4ec4-a105-1ab59f724cb6",
   "metadata": {
    "tags": []
   },
   "outputs": [
    {
     "data": {
      "text/html": [
       "<div>\n",
       "<style scoped>\n",
       "    .dataframe tbody tr th:only-of-type {\n",
       "        vertical-align: middle;\n",
       "    }\n",
       "\n",
       "    .dataframe tbody tr th {\n",
       "        vertical-align: top;\n",
       "    }\n",
       "\n",
       "    .dataframe thead th {\n",
       "        text-align: right;\n",
       "    }\n",
       "</style>\n",
       "<table border=\"1\" class=\"dataframe\">\n",
       "  <thead>\n",
       "    <tr style=\"text-align: right;\">\n",
       "      <th></th>\n",
       "      <th>Cement</th>\n",
       "      <th>Blast Furnace Slag</th>\n",
       "      <th>Fly Ash</th>\n",
       "      <th>Water</th>\n",
       "      <th>Superplasticizer</th>\n",
       "      <th>Coarse Aggregate</th>\n",
       "      <th>Fine Aggregate</th>\n",
       "      <th>Age</th>\n",
       "      <th>Strength</th>\n",
       "    </tr>\n",
       "  </thead>\n",
       "  <tbody>\n",
       "    <tr>\n",
       "      <th>0</th>\n",
       "      <td>540.0</td>\n",
       "      <td>0.0</td>\n",
       "      <td>0.0</td>\n",
       "      <td>162.0</td>\n",
       "      <td>2.5</td>\n",
       "      <td>1040.0</td>\n",
       "      <td>676.0</td>\n",
       "      <td>28</td>\n",
       "      <td>79.99</td>\n",
       "    </tr>\n",
       "    <tr>\n",
       "      <th>1</th>\n",
       "      <td>540.0</td>\n",
       "      <td>0.0</td>\n",
       "      <td>0.0</td>\n",
       "      <td>162.0</td>\n",
       "      <td>2.5</td>\n",
       "      <td>1055.0</td>\n",
       "      <td>676.0</td>\n",
       "      <td>28</td>\n",
       "      <td>61.89</td>\n",
       "    </tr>\n",
       "    <tr>\n",
       "      <th>2</th>\n",
       "      <td>332.5</td>\n",
       "      <td>142.5</td>\n",
       "      <td>0.0</td>\n",
       "      <td>228.0</td>\n",
       "      <td>0.0</td>\n",
       "      <td>932.0</td>\n",
       "      <td>594.0</td>\n",
       "      <td>270</td>\n",
       "      <td>40.27</td>\n",
       "    </tr>\n",
       "    <tr>\n",
       "      <th>3</th>\n",
       "      <td>332.5</td>\n",
       "      <td>142.5</td>\n",
       "      <td>0.0</td>\n",
       "      <td>228.0</td>\n",
       "      <td>0.0</td>\n",
       "      <td>932.0</td>\n",
       "      <td>594.0</td>\n",
       "      <td>365</td>\n",
       "      <td>41.05</td>\n",
       "    </tr>\n",
       "    <tr>\n",
       "      <th>4</th>\n",
       "      <td>198.6</td>\n",
       "      <td>132.4</td>\n",
       "      <td>0.0</td>\n",
       "      <td>192.0</td>\n",
       "      <td>0.0</td>\n",
       "      <td>978.4</td>\n",
       "      <td>825.5</td>\n",
       "      <td>360</td>\n",
       "      <td>44.30</td>\n",
       "    </tr>\n",
       "  </tbody>\n",
       "</table>\n",
       "</div>"
      ],
      "text/plain": [
       "   Cement  Blast Furnace Slag  Fly Ash  Water  Superplasticizer  \\\n",
       "0   540.0                 0.0      0.0  162.0               2.5   \n",
       "1   540.0                 0.0      0.0  162.0               2.5   \n",
       "2   332.5               142.5      0.0  228.0               0.0   \n",
       "3   332.5               142.5      0.0  228.0               0.0   \n",
       "4   198.6               132.4      0.0  192.0               0.0   \n",
       "\n",
       "   Coarse Aggregate  Fine Aggregate  Age  Strength  \n",
       "0            1040.0           676.0   28     79.99  \n",
       "1            1055.0           676.0   28     61.89  \n",
       "2             932.0           594.0  270     40.27  \n",
       "3             932.0           594.0  365     41.05  \n",
       "4             978.4           825.5  360     44.30  "
      ]
     },
     "execution_count": 3,
     "metadata": {},
     "output_type": "execute_result"
    }
   ],
   "source": [
    "#next we download and read our dataset into the pandas dataframe \n",
    "concrete_data = pd.read_csv('https://s3-api.us-geo.objectstorage.softlayer.net/cf-courses-data/CognitiveClass/DL0101EN/labs/data/concrete_data.csv')\n",
    "concrete_data.head()"
   ]
  },
  {
   "cell_type": "code",
   "execution_count": 4,
   "id": "a6a047b2-ae6a-476b-9fcf-48b491b9cdde",
   "metadata": {
    "tags": []
   },
   "outputs": [
    {
     "data": {
      "text/plain": [
       "(1030, 9)"
      ]
     },
     "execution_count": 4,
     "metadata": {},
     "output_type": "execute_result"
    }
   ],
   "source": [
    "#now lets check how many data points we have \n",
    "concrete_data.shape"
   ]
  },
  {
   "cell_type": "code",
   "execution_count": 5,
   "id": "4c6927e4-5e94-4fac-9f71-c9fe9ceabef8",
   "metadata": {
    "tags": []
   },
   "outputs": [
    {
     "data": {
      "text/html": [
       "<div>\n",
       "<style scoped>\n",
       "    .dataframe tbody tr th:only-of-type {\n",
       "        vertical-align: middle;\n",
       "    }\n",
       "\n",
       "    .dataframe tbody tr th {\n",
       "        vertical-align: top;\n",
       "    }\n",
       "\n",
       "    .dataframe thead th {\n",
       "        text-align: right;\n",
       "    }\n",
       "</style>\n",
       "<table border=\"1\" class=\"dataframe\">\n",
       "  <thead>\n",
       "    <tr style=\"text-align: right;\">\n",
       "      <th></th>\n",
       "      <th>Cement</th>\n",
       "      <th>Blast Furnace Slag</th>\n",
       "      <th>Fly Ash</th>\n",
       "      <th>Water</th>\n",
       "      <th>Superplasticizer</th>\n",
       "      <th>Coarse Aggregate</th>\n",
       "      <th>Fine Aggregate</th>\n",
       "      <th>Age</th>\n",
       "      <th>Strength</th>\n",
       "    </tr>\n",
       "  </thead>\n",
       "  <tbody>\n",
       "    <tr>\n",
       "      <th>count</th>\n",
       "      <td>1030.000000</td>\n",
       "      <td>1030.000000</td>\n",
       "      <td>1030.000000</td>\n",
       "      <td>1030.000000</td>\n",
       "      <td>1030.000000</td>\n",
       "      <td>1030.000000</td>\n",
       "      <td>1030.000000</td>\n",
       "      <td>1030.000000</td>\n",
       "      <td>1030.000000</td>\n",
       "    </tr>\n",
       "    <tr>\n",
       "      <th>mean</th>\n",
       "      <td>281.167864</td>\n",
       "      <td>73.895825</td>\n",
       "      <td>54.188350</td>\n",
       "      <td>181.567282</td>\n",
       "      <td>6.204660</td>\n",
       "      <td>972.918932</td>\n",
       "      <td>773.580485</td>\n",
       "      <td>45.662136</td>\n",
       "      <td>35.817961</td>\n",
       "    </tr>\n",
       "    <tr>\n",
       "      <th>std</th>\n",
       "      <td>104.506364</td>\n",
       "      <td>86.279342</td>\n",
       "      <td>63.997004</td>\n",
       "      <td>21.354219</td>\n",
       "      <td>5.973841</td>\n",
       "      <td>77.753954</td>\n",
       "      <td>80.175980</td>\n",
       "      <td>63.169912</td>\n",
       "      <td>16.705742</td>\n",
       "    </tr>\n",
       "    <tr>\n",
       "      <th>min</th>\n",
       "      <td>102.000000</td>\n",
       "      <td>0.000000</td>\n",
       "      <td>0.000000</td>\n",
       "      <td>121.800000</td>\n",
       "      <td>0.000000</td>\n",
       "      <td>801.000000</td>\n",
       "      <td>594.000000</td>\n",
       "      <td>1.000000</td>\n",
       "      <td>2.330000</td>\n",
       "    </tr>\n",
       "    <tr>\n",
       "      <th>25%</th>\n",
       "      <td>192.375000</td>\n",
       "      <td>0.000000</td>\n",
       "      <td>0.000000</td>\n",
       "      <td>164.900000</td>\n",
       "      <td>0.000000</td>\n",
       "      <td>932.000000</td>\n",
       "      <td>730.950000</td>\n",
       "      <td>7.000000</td>\n",
       "      <td>23.710000</td>\n",
       "    </tr>\n",
       "    <tr>\n",
       "      <th>50%</th>\n",
       "      <td>272.900000</td>\n",
       "      <td>22.000000</td>\n",
       "      <td>0.000000</td>\n",
       "      <td>185.000000</td>\n",
       "      <td>6.400000</td>\n",
       "      <td>968.000000</td>\n",
       "      <td>779.500000</td>\n",
       "      <td>28.000000</td>\n",
       "      <td>34.445000</td>\n",
       "    </tr>\n",
       "    <tr>\n",
       "      <th>75%</th>\n",
       "      <td>350.000000</td>\n",
       "      <td>142.950000</td>\n",
       "      <td>118.300000</td>\n",
       "      <td>192.000000</td>\n",
       "      <td>10.200000</td>\n",
       "      <td>1029.400000</td>\n",
       "      <td>824.000000</td>\n",
       "      <td>56.000000</td>\n",
       "      <td>46.135000</td>\n",
       "    </tr>\n",
       "    <tr>\n",
       "      <th>max</th>\n",
       "      <td>540.000000</td>\n",
       "      <td>359.400000</td>\n",
       "      <td>200.100000</td>\n",
       "      <td>247.000000</td>\n",
       "      <td>32.200000</td>\n",
       "      <td>1145.000000</td>\n",
       "      <td>992.600000</td>\n",
       "      <td>365.000000</td>\n",
       "      <td>82.600000</td>\n",
       "    </tr>\n",
       "  </tbody>\n",
       "</table>\n",
       "</div>"
      ],
      "text/plain": [
       "            Cement  Blast Furnace Slag      Fly Ash        Water  \\\n",
       "count  1030.000000         1030.000000  1030.000000  1030.000000   \n",
       "mean    281.167864           73.895825    54.188350   181.567282   \n",
       "std     104.506364           86.279342    63.997004    21.354219   \n",
       "min     102.000000            0.000000     0.000000   121.800000   \n",
       "25%     192.375000            0.000000     0.000000   164.900000   \n",
       "50%     272.900000           22.000000     0.000000   185.000000   \n",
       "75%     350.000000          142.950000   118.300000   192.000000   \n",
       "max     540.000000          359.400000   200.100000   247.000000   \n",
       "\n",
       "       Superplasticizer  Coarse Aggregate  Fine Aggregate          Age  \\\n",
       "count       1030.000000       1030.000000     1030.000000  1030.000000   \n",
       "mean           6.204660        972.918932      773.580485    45.662136   \n",
       "std            5.973841         77.753954       80.175980    63.169912   \n",
       "min            0.000000        801.000000      594.000000     1.000000   \n",
       "25%            0.000000        932.000000      730.950000     7.000000   \n",
       "50%            6.400000        968.000000      779.500000    28.000000   \n",
       "75%           10.200000       1029.400000      824.000000    56.000000   \n",
       "max           32.200000       1145.000000      992.600000   365.000000   \n",
       "\n",
       "          Strength  \n",
       "count  1030.000000  \n",
       "mean     35.817961  \n",
       "std      16.705742  \n",
       "min       2.330000  \n",
       "25%      23.710000  \n",
       "50%      34.445000  \n",
       "75%      46.135000  \n",
       "max      82.600000  "
      ]
     },
     "execution_count": 5,
     "metadata": {},
     "output_type": "execute_result"
    }
   ],
   "source": [
    "#therefore signifying that we only have 1000 samples to train our data on. Hence, we have to be careful to avoid overfitting the model\n",
    "#now we have to check for any missing values \n",
    "concrete_data.describe()"
   ]
  },
  {
   "cell_type": "code",
   "execution_count": 6,
   "id": "2c89dfc8-92c0-463e-aa79-bed174bf1f43",
   "metadata": {
    "tags": []
   },
   "outputs": [
    {
     "data": {
      "text/plain": [
       "Cement                0\n",
       "Blast Furnace Slag    0\n",
       "Fly Ash               0\n",
       "Water                 0\n",
       "Superplasticizer      0\n",
       "Coarse Aggregate      0\n",
       "Fine Aggregate        0\n",
       "Age                   0\n",
       "Strength              0\n",
       "dtype: int64"
      ]
     },
     "execution_count": 6,
     "metadata": {},
     "output_type": "execute_result"
    }
   ],
   "source": [
    "concrete_data.isnull().sum()"
   ]
  },
  {
   "cell_type": "code",
   "execution_count": 7,
   "id": "e1e36c07-552e-4658-9b15-ab49797f3b4f",
   "metadata": {
    "tags": []
   },
   "outputs": [],
   "source": [
    "#now we have to change the target column of our data to binary for the model to be able to compute it \n",
    "concrete_data_columns = concrete_data.columns\n",
    "predictors = concrete_data[concrete_data_columns[concrete_data_columns != 'Strength']] # all columns except Strength\n",
    "target = concrete_data['Strength'] # Strength column\n"
   ]
  },
  {
   "cell_type": "code",
   "execution_count": 8,
   "id": "6a41c8b2-0600-4234-81d4-e510b96539f5",
   "metadata": {
    "tags": []
   },
   "outputs": [
    {
     "data": {
      "text/html": [
       "<div>\n",
       "<style scoped>\n",
       "    .dataframe tbody tr th:only-of-type {\n",
       "        vertical-align: middle;\n",
       "    }\n",
       "\n",
       "    .dataframe tbody tr th {\n",
       "        vertical-align: top;\n",
       "    }\n",
       "\n",
       "    .dataframe thead th {\n",
       "        text-align: right;\n",
       "    }\n",
       "</style>\n",
       "<table border=\"1\" class=\"dataframe\">\n",
       "  <thead>\n",
       "    <tr style=\"text-align: right;\">\n",
       "      <th></th>\n",
       "      <th>Cement</th>\n",
       "      <th>Blast Furnace Slag</th>\n",
       "      <th>Fly Ash</th>\n",
       "      <th>Water</th>\n",
       "      <th>Superplasticizer</th>\n",
       "      <th>Coarse Aggregate</th>\n",
       "      <th>Fine Aggregate</th>\n",
       "      <th>Age</th>\n",
       "    </tr>\n",
       "  </thead>\n",
       "  <tbody>\n",
       "    <tr>\n",
       "      <th>0</th>\n",
       "      <td>540.0</td>\n",
       "      <td>0.0</td>\n",
       "      <td>0.0</td>\n",
       "      <td>162.0</td>\n",
       "      <td>2.5</td>\n",
       "      <td>1040.0</td>\n",
       "      <td>676.0</td>\n",
       "      <td>28</td>\n",
       "    </tr>\n",
       "    <tr>\n",
       "      <th>1</th>\n",
       "      <td>540.0</td>\n",
       "      <td>0.0</td>\n",
       "      <td>0.0</td>\n",
       "      <td>162.0</td>\n",
       "      <td>2.5</td>\n",
       "      <td>1055.0</td>\n",
       "      <td>676.0</td>\n",
       "      <td>28</td>\n",
       "    </tr>\n",
       "    <tr>\n",
       "      <th>2</th>\n",
       "      <td>332.5</td>\n",
       "      <td>142.5</td>\n",
       "      <td>0.0</td>\n",
       "      <td>228.0</td>\n",
       "      <td>0.0</td>\n",
       "      <td>932.0</td>\n",
       "      <td>594.0</td>\n",
       "      <td>270</td>\n",
       "    </tr>\n",
       "    <tr>\n",
       "      <th>3</th>\n",
       "      <td>332.5</td>\n",
       "      <td>142.5</td>\n",
       "      <td>0.0</td>\n",
       "      <td>228.0</td>\n",
       "      <td>0.0</td>\n",
       "      <td>932.0</td>\n",
       "      <td>594.0</td>\n",
       "      <td>365</td>\n",
       "    </tr>\n",
       "    <tr>\n",
       "      <th>4</th>\n",
       "      <td>198.6</td>\n",
       "      <td>132.4</td>\n",
       "      <td>0.0</td>\n",
       "      <td>192.0</td>\n",
       "      <td>0.0</td>\n",
       "      <td>978.4</td>\n",
       "      <td>825.5</td>\n",
       "      <td>360</td>\n",
       "    </tr>\n",
       "  </tbody>\n",
       "</table>\n",
       "</div>"
      ],
      "text/plain": [
       "   Cement  Blast Furnace Slag  Fly Ash  Water  Superplasticizer  \\\n",
       "0   540.0                 0.0      0.0  162.0               2.5   \n",
       "1   540.0                 0.0      0.0  162.0               2.5   \n",
       "2   332.5               142.5      0.0  228.0               0.0   \n",
       "3   332.5               142.5      0.0  228.0               0.0   \n",
       "4   198.6               132.4      0.0  192.0               0.0   \n",
       "\n",
       "   Coarse Aggregate  Fine Aggregate  Age  \n",
       "0            1040.0           676.0   28  \n",
       "1            1055.0           676.0   28  \n",
       "2             932.0           594.0  270  \n",
       "3             932.0           594.0  365  \n",
       "4             978.4           825.5  360  "
      ]
     },
     "execution_count": 8,
     "metadata": {},
     "output_type": "execute_result"
    }
   ],
   "source": [
    "#a quick sanity check \n",
    "predictors.head()"
   ]
  },
  {
   "cell_type": "code",
   "execution_count": 9,
   "id": "3a1d4f04-8715-45ac-b745-79cdfda3bba2",
   "metadata": {
    "tags": []
   },
   "outputs": [
    {
     "data": {
      "text/plain": [
       "0    79.99\n",
       "1    61.89\n",
       "2    40.27\n",
       "3    41.05\n",
       "4    44.30\n",
       "Name: Strength, dtype: float64"
      ]
     },
     "execution_count": 9,
     "metadata": {},
     "output_type": "execute_result"
    }
   ],
   "source": [
    "target.head()"
   ]
  },
  {
   "cell_type": "code",
   "execution_count": 10,
   "id": "55deec13-5f25-4eca-920e-99c84d16ac9d",
   "metadata": {
    "tags": []
   },
   "outputs": [
    {
     "data": {
      "text/html": [
       "<div>\n",
       "<style scoped>\n",
       "    .dataframe tbody tr th:only-of-type {\n",
       "        vertical-align: middle;\n",
       "    }\n",
       "\n",
       "    .dataframe tbody tr th {\n",
       "        vertical-align: top;\n",
       "    }\n",
       "\n",
       "    .dataframe thead th {\n",
       "        text-align: right;\n",
       "    }\n",
       "</style>\n",
       "<table border=\"1\" class=\"dataframe\">\n",
       "  <thead>\n",
       "    <tr style=\"text-align: right;\">\n",
       "      <th></th>\n",
       "      <th>Cement</th>\n",
       "      <th>Blast Furnace Slag</th>\n",
       "      <th>Fly Ash</th>\n",
       "      <th>Water</th>\n",
       "      <th>Superplasticizer</th>\n",
       "      <th>Coarse Aggregate</th>\n",
       "      <th>Fine Aggregate</th>\n",
       "      <th>Age</th>\n",
       "    </tr>\n",
       "  </thead>\n",
       "  <tbody>\n",
       "    <tr>\n",
       "      <th>0</th>\n",
       "      <td>2.476712</td>\n",
       "      <td>-0.856472</td>\n",
       "      <td>-0.846733</td>\n",
       "      <td>-0.916319</td>\n",
       "      <td>-0.620147</td>\n",
       "      <td>0.862735</td>\n",
       "      <td>-1.217079</td>\n",
       "      <td>-0.279597</td>\n",
       "    </tr>\n",
       "    <tr>\n",
       "      <th>1</th>\n",
       "      <td>2.476712</td>\n",
       "      <td>-0.856472</td>\n",
       "      <td>-0.846733</td>\n",
       "      <td>-0.916319</td>\n",
       "      <td>-0.620147</td>\n",
       "      <td>1.055651</td>\n",
       "      <td>-1.217079</td>\n",
       "      <td>-0.279597</td>\n",
       "    </tr>\n",
       "    <tr>\n",
       "      <th>2</th>\n",
       "      <td>0.491187</td>\n",
       "      <td>0.795140</td>\n",
       "      <td>-0.846733</td>\n",
       "      <td>2.174405</td>\n",
       "      <td>-1.038638</td>\n",
       "      <td>-0.526262</td>\n",
       "      <td>-2.239829</td>\n",
       "      <td>3.551340</td>\n",
       "    </tr>\n",
       "    <tr>\n",
       "      <th>3</th>\n",
       "      <td>0.491187</td>\n",
       "      <td>0.795140</td>\n",
       "      <td>-0.846733</td>\n",
       "      <td>2.174405</td>\n",
       "      <td>-1.038638</td>\n",
       "      <td>-0.526262</td>\n",
       "      <td>-2.239829</td>\n",
       "      <td>5.055221</td>\n",
       "    </tr>\n",
       "    <tr>\n",
       "      <th>4</th>\n",
       "      <td>-0.790075</td>\n",
       "      <td>0.678079</td>\n",
       "      <td>-0.846733</td>\n",
       "      <td>0.488555</td>\n",
       "      <td>-1.038638</td>\n",
       "      <td>0.070492</td>\n",
       "      <td>0.647569</td>\n",
       "      <td>4.976069</td>\n",
       "    </tr>\n",
       "  </tbody>\n",
       "</table>\n",
       "</div>"
      ],
      "text/plain": [
       "     Cement  Blast Furnace Slag   Fly Ash     Water  Superplasticizer  \\\n",
       "0  2.476712           -0.856472 -0.846733 -0.916319         -0.620147   \n",
       "1  2.476712           -0.856472 -0.846733 -0.916319         -0.620147   \n",
       "2  0.491187            0.795140 -0.846733  2.174405         -1.038638   \n",
       "3  0.491187            0.795140 -0.846733  2.174405         -1.038638   \n",
       "4 -0.790075            0.678079 -0.846733  0.488555         -1.038638   \n",
       "\n",
       "   Coarse Aggregate  Fine Aggregate       Age  \n",
       "0          0.862735       -1.217079 -0.279597  \n",
       "1          1.055651       -1.217079 -0.279597  \n",
       "2         -0.526262       -2.239829  3.551340  \n",
       "3         -0.526262       -2.239829  5.055221  \n",
       "4          0.070492        0.647569  4.976069  "
      ]
     },
     "execution_count": 10,
     "metadata": {},
     "output_type": "execute_result"
    }
   ],
   "source": [
    "#now to finally normalize the data by substracting the mean of the data and dividing it by its standard deviation \n",
    "predictors_norm = (predictors - predictors.mean())/predictors.std()\n",
    "predictors_norm.head()"
   ]
  },
  {
   "cell_type": "code",
   "execution_count": 11,
   "id": "189bb5b1-8076-49b5-a2e8-31ca22556c12",
   "metadata": {
    "tags": []
   },
   "outputs": [
    {
     "data": {
      "text/plain": [
       "8"
      ]
     },
     "execution_count": 11,
     "metadata": {},
     "output_type": "execute_result"
    }
   ],
   "source": [
    "n_cols = predictors.shape[1] # number of predictors\n",
    "n_cols"
   ]
  },
  {
   "cell_type": "code",
   "execution_count": 12,
   "id": "b6ab1c5b-6d28-46b9-9420-9a795213498c",
   "metadata": {
    "tags": []
   },
   "outputs": [
    {
     "name": "stderr",
     "output_type": "stream",
     "text": [
      "Using TensorFlow backend.\n",
      "/home/jupyterlab/conda/envs/python/lib/python3.7/site-packages/tensorflow/python/framework/dtypes.py:516: FutureWarning: Passing (type, 1) or '1type' as a synonym of type is deprecated; in a future version of numpy, it will be understood as (type, (1,)) / '(1,)type'.\n",
      "  _np_qint8 = np.dtype([(\"qint8\", np.int8, 1)])\n",
      "/home/jupyterlab/conda/envs/python/lib/python3.7/site-packages/tensorflow/python/framework/dtypes.py:517: FutureWarning: Passing (type, 1) or '1type' as a synonym of type is deprecated; in a future version of numpy, it will be understood as (type, (1,)) / '(1,)type'.\n",
      "  _np_quint8 = np.dtype([(\"quint8\", np.uint8, 1)])\n",
      "/home/jupyterlab/conda/envs/python/lib/python3.7/site-packages/tensorflow/python/framework/dtypes.py:518: FutureWarning: Passing (type, 1) or '1type' as a synonym of type is deprecated; in a future version of numpy, it will be understood as (type, (1,)) / '(1,)type'.\n",
      "  _np_qint16 = np.dtype([(\"qint16\", np.int16, 1)])\n",
      "/home/jupyterlab/conda/envs/python/lib/python3.7/site-packages/tensorflow/python/framework/dtypes.py:519: FutureWarning: Passing (type, 1) or '1type' as a synonym of type is deprecated; in a future version of numpy, it will be understood as (type, (1,)) / '(1,)type'.\n",
      "  _np_quint16 = np.dtype([(\"quint16\", np.uint16, 1)])\n",
      "/home/jupyterlab/conda/envs/python/lib/python3.7/site-packages/tensorflow/python/framework/dtypes.py:520: FutureWarning: Passing (type, 1) or '1type' as a synonym of type is deprecated; in a future version of numpy, it will be understood as (type, (1,)) / '(1,)type'.\n",
      "  _np_qint32 = np.dtype([(\"qint32\", np.int32, 1)])\n",
      "/home/jupyterlab/conda/envs/python/lib/python3.7/site-packages/tensorflow/python/framework/dtypes.py:525: FutureWarning: Passing (type, 1) or '1type' as a synonym of type is deprecated; in a future version of numpy, it will be understood as (type, (1,)) / '(1,)type'.\n",
      "  np_resource = np.dtype([(\"resource\", np.ubyte, 1)])\n",
      "/home/jupyterlab/conda/envs/python/lib/python3.7/site-packages/tensorboard/compat/tensorflow_stub/dtypes.py:541: FutureWarning: Passing (type, 1) or '1type' as a synonym of type is deprecated; in a future version of numpy, it will be understood as (type, (1,)) / '(1,)type'.\n",
      "  _np_qint8 = np.dtype([(\"qint8\", np.int8, 1)])\n",
      "/home/jupyterlab/conda/envs/python/lib/python3.7/site-packages/tensorboard/compat/tensorflow_stub/dtypes.py:542: FutureWarning: Passing (type, 1) or '1type' as a synonym of type is deprecated; in a future version of numpy, it will be understood as (type, (1,)) / '(1,)type'.\n",
      "  _np_quint8 = np.dtype([(\"quint8\", np.uint8, 1)])\n",
      "/home/jupyterlab/conda/envs/python/lib/python3.7/site-packages/tensorboard/compat/tensorflow_stub/dtypes.py:543: FutureWarning: Passing (type, 1) or '1type' as a synonym of type is deprecated; in a future version of numpy, it will be understood as (type, (1,)) / '(1,)type'.\n",
      "  _np_qint16 = np.dtype([(\"qint16\", np.int16, 1)])\n",
      "/home/jupyterlab/conda/envs/python/lib/python3.7/site-packages/tensorboard/compat/tensorflow_stub/dtypes.py:544: FutureWarning: Passing (type, 1) or '1type' as a synonym of type is deprecated; in a future version of numpy, it will be understood as (type, (1,)) / '(1,)type'.\n",
      "  _np_quint16 = np.dtype([(\"quint16\", np.uint16, 1)])\n",
      "/home/jupyterlab/conda/envs/python/lib/python3.7/site-packages/tensorboard/compat/tensorflow_stub/dtypes.py:545: FutureWarning: Passing (type, 1) or '1type' as a synonym of type is deprecated; in a future version of numpy, it will be understood as (type, (1,)) / '(1,)type'.\n",
      "  _np_qint32 = np.dtype([(\"qint32\", np.int32, 1)])\n",
      "/home/jupyterlab/conda/envs/python/lib/python3.7/site-packages/tensorboard/compat/tensorflow_stub/dtypes.py:550: FutureWarning: Passing (type, 1) or '1type' as a synonym of type is deprecated; in a future version of numpy, it will be understood as (type, (1,)) / '(1,)type'.\n",
      "  np_resource = np.dtype([(\"resource\", np.ubyte, 1)])\n"
     ]
    }
   ],
   "source": [
    "#now we import the Keras library to make our neural network\n",
    "import keras"
   ]
  },
  {
   "cell_type": "code",
   "execution_count": 13,
   "id": "b7dc9125-179c-4a7e-9677-3a1c39e4e5a7",
   "metadata": {
    "tags": []
   },
   "outputs": [],
   "source": [
    "#the first line of the utput from the Keras import function indicates that tensorflow was used to install the Keras Library\n",
    "#now lets import the other packages that will be required\n",
    "from keras.models import Sequential\n",
    "from keras.layers import Dense"
   ]
  },
  {
   "cell_type": "code",
   "execution_count": 14,
   "id": "0180fda1-d283-47d9-9d0f-0e131132eeff",
   "metadata": {
    "tags": []
   },
   "outputs": [],
   "source": [
    "# define regression model\n",
    "def regression_model():\n",
    "    # create model\n",
    "    model = Sequential()\n",
    "    model.add(Dense(10, activation='relu', input_shape=(n_cols,)))\n",
    "    model.add(Dense(1))\n",
    "    \n",
    "    # compile model\n",
    "    model.compile(optimizer='adam', loss='mean_squared_error')\n",
    "    return model"
   ]
  },
  {
   "cell_type": "code",
   "execution_count": 15,
   "id": "209da9ec-4654-4228-b62a-f61a9171aa7f",
   "metadata": {
    "tags": []
   },
   "outputs": [],
   "source": [
    "#The above code creates a model that has one hidden layer of 10 nodes, and a ReLU activation function\n",
    "#it also uses the adam optimizer and the mean squared error as the loss function "
   ]
  },
  {
   "cell_type": "code",
   "execution_count": 16,
   "id": "bd8aaee3-257a-47f6-b042-b400f80d75c4",
   "metadata": {
    "tags": []
   },
   "outputs": [
    {
     "name": "stderr",
     "output_type": "stream",
     "text": [
      "/home/jupyterlab/conda/envs/python/lib/python3.7/site-packages/sklearn/utils/validation.py:37: DeprecationWarning: distutils Version classes are deprecated. Use packaging.version instead.\n",
      "  LARGE_SPARSE_SUPPORTED = LooseVersion(scipy_version) >= '0.14.0'\n"
     ]
    }
   ],
   "source": [
    "#now lets import sci-kit learn to split our data \n",
    "from sklearn.model_selection import train_test_split"
   ]
  },
  {
   "cell_type": "code",
   "execution_count": 17,
   "id": "56263e03-1679-40e4-9e32-c8f912578dc2",
   "metadata": {
    "tags": []
   },
   "outputs": [],
   "source": [
    "X_train, X_test, y_train, y_test = train_test_split(predictors, target, test_size=0.3, random_state=42)"
   ]
  },
  {
   "cell_type": "code",
   "execution_count": 18,
   "id": "589f8fcf-4cf6-4c0d-ab48-3ed557d1e263",
   "metadata": {
    "tags": []
   },
   "outputs": [
    {
     "name": "stdout",
     "output_type": "stream",
     "text": [
      "WARNING:tensorflow:From /home/jupyterlab/conda/envs/python/lib/python3.7/site-packages/keras/backend/tensorflow_backend.py:68: The name tf.get_default_graph is deprecated. Please use tf.compat.v1.get_default_graph instead.\n",
      "\n",
      "WARNING:tensorflow:From /home/jupyterlab/conda/envs/python/lib/python3.7/site-packages/keras/backend/tensorflow_backend.py:508: The name tf.placeholder is deprecated. Please use tf.compat.v1.placeholder instead.\n",
      "\n",
      "WARNING:tensorflow:From /home/jupyterlab/conda/envs/python/lib/python3.7/site-packages/keras/backend/tensorflow_backend.py:3837: The name tf.random_uniform is deprecated. Please use tf.random.uniform instead.\n",
      "\n",
      "WARNING:tensorflow:From /home/jupyterlab/conda/envs/python/lib/python3.7/site-packages/keras/optimizers.py:757: The name tf.train.Optimizer is deprecated. Please use tf.compat.v1.train.Optimizer instead.\n",
      "\n"
     ]
    }
   ],
   "source": [
    "#now lets begin making our model since our data is ready by calling the below function\n",
    "model = regression_model() "
   ]
  },
  {
   "cell_type": "code",
   "execution_count": 19,
   "id": "c92c84bd-6108-4405-bcf4-af92d5fd3299",
   "metadata": {
    "tags": []
   },
   "outputs": [
    {
     "name": "stdout",
     "output_type": "stream",
     "text": [
      "WARNING:tensorflow:From /home/jupyterlab/conda/envs/python/lib/python3.7/site-packages/keras/backend/tensorflow_backend.py:977: The name tf.assign_add is deprecated. Please use tf.compat.v1.assign_add instead.\n",
      "\n",
      "WARNING:tensorflow:From /home/jupyterlab/conda/envs/python/lib/python3.7/site-packages/keras/backend/tensorflow_backend.py:964: The name tf.assign is deprecated. Please use tf.compat.v1.assign instead.\n",
      "\n",
      "Epoch 1/100\n",
      " 32/721 [>.............................] - ETA: 4s - loss: 733995.5000"
     ]
    },
    {
     "name": "stderr",
     "output_type": "stream",
     "text": [
      "2024-06-04 03:27:46.480565: I tensorflow/core/platform/cpu_feature_guard.cc:142] Your CPU supports instructions that this TensorFlow binary was not compiled to use: SSE4.1 SSE4.2 AVX AVX2 AVX512F FMA\n",
      "2024-06-04 03:27:46.485677: I tensorflow/core/platform/profile_utils/cpu_utils.cc:94] CPU Frequency: 2394300000 Hz\n",
      "2024-06-04 03:27:46.486246: I tensorflow/compiler/xla/service/service.cc:168] XLA service 0x55f6a8e15120 executing computations on platform Host. Devices:\n",
      "2024-06-04 03:27:46.486299: I tensorflow/compiler/xla/service/service.cc:175]   StreamExecutor device (0): <undefined>, <undefined>\n",
      "2024-06-04 03:27:46.559033: W tensorflow/compiler/jit/mark_for_compilation_pass.cc:1412] (One-time warning): Not using XLA:CPU for cluster because envvar TF_XLA_FLAGS=--tf_xla_cpu_global_jit was not set.  If you want XLA:CPU, either set that envvar, or use experimental_jit_scope to enable XLA:CPU.  To confirm that XLA is active, pass --vmodule=xla_compilation_cache=1 (as a proper command-line flag, not via TF_XLA_FLAGS) or set the envvar XLA_FLAGS=--xla_hlo_profile.\n"
     ]
    },
    {
     "name": "stdout",
     "output_type": "stream",
     "text": [
      "721/721 [==============================] - 0s 364us/step - loss: 617932.4717\n",
      "Epoch 2/100\n",
      "721/721 [==============================] - 0s 108us/step - loss: 349224.2145\n",
      "Epoch 3/100\n",
      "721/721 [==============================] - 0s 86us/step - loss: 163159.1868\n",
      "Epoch 4/100\n",
      "721/721 [==============================] - 0s 105us/step - loss: 64582.8372\n",
      "Epoch 5/100\n",
      "721/721 [==============================] - 0s 88us/step - loss: 23374.8790\n",
      "Epoch 6/100\n",
      "721/721 [==============================] - 0s 82us/step - loss: 9714.8528\n",
      "Epoch 7/100\n",
      "721/721 [==============================] - 0s 81us/step - loss: 6476.7309\n",
      "Epoch 8/100\n",
      "721/721 [==============================] - 0s 62us/step - loss: 5761.8368\n",
      "Epoch 9/100\n",
      "721/721 [==============================] - 0s 63us/step - loss: 5574.4076\n",
      "Epoch 10/100\n",
      "721/721 [==============================] - 0s 74us/step - loss: 5425.8446\n",
      "Epoch 11/100\n",
      "721/721 [==============================] - 0s 60us/step - loss: 5271.7485\n",
      "Epoch 12/100\n",
      "721/721 [==============================] - 0s 61us/step - loss: 5121.4075\n",
      "Epoch 13/100\n",
      "721/721 [==============================] - 0s 70us/step - loss: 4965.7839\n",
      "Epoch 14/100\n",
      "721/721 [==============================] - 0s 55us/step - loss: 4811.5613\n",
      "Epoch 15/100\n",
      "721/721 [==============================] - 0s 59us/step - loss: 4666.4002\n",
      "Epoch 16/100\n",
      "721/721 [==============================] - 0s 57us/step - loss: 4514.1439\n",
      "Epoch 17/100\n",
      "721/721 [==============================] - 0s 53us/step - loss: 4369.5624\n",
      "Epoch 18/100\n",
      "721/721 [==============================] - 0s 56us/step - loss: 4225.5907\n",
      "Epoch 19/100\n",
      "721/721 [==============================] - 0s 58us/step - loss: 4088.9510\n",
      "Epoch 20/100\n",
      "721/721 [==============================] - 0s 56us/step - loss: 3955.3881\n",
      "Epoch 21/100\n",
      "721/721 [==============================] - 0s 55us/step - loss: 3821.8161\n",
      "Epoch 22/100\n",
      "721/721 [==============================] - 0s 55us/step - loss: 3696.8530\n",
      "Epoch 23/100\n",
      "721/721 [==============================] - 0s 66us/step - loss: 3571.7640\n",
      "Epoch 24/100\n",
      "721/721 [==============================] - 0s 58us/step - loss: 3451.9599\n",
      "Epoch 25/100\n",
      "721/721 [==============================] - 0s 56us/step - loss: 3341.9360\n",
      "Epoch 26/100\n",
      "721/721 [==============================] - 0s 62us/step - loss: 3226.2746\n",
      "Epoch 27/100\n",
      "721/721 [==============================] - 0s 97us/step - loss: 3121.4153\n",
      "Epoch 28/100\n",
      "721/721 [==============================] - 0s 94us/step - loss: 3018.8878\n",
      "Epoch 29/100\n",
      "721/721 [==============================] - 0s 54us/step - loss: 2919.8179\n",
      "Epoch 30/100\n",
      "721/721 [==============================] - 0s 59us/step - loss: 2827.4807\n",
      "Epoch 31/100\n",
      "721/721 [==============================] - 0s 65us/step - loss: 2734.5118\n",
      "Epoch 32/100\n",
      "721/721 [==============================] - 0s 57us/step - loss: 2646.1954\n",
      "Epoch 33/100\n",
      "721/721 [==============================] - 0s 56us/step - loss: 2563.1259\n",
      "Epoch 34/100\n",
      "721/721 [==============================] - 0s 60us/step - loss: 2485.7877\n",
      "Epoch 35/100\n",
      "721/721 [==============================] - 0s 53us/step - loss: 2408.6260\n",
      "Epoch 36/100\n",
      "721/721 [==============================] - 0s 52us/step - loss: 2340.1364\n",
      "Epoch 37/100\n",
      "721/721 [==============================] - 0s 61us/step - loss: 2267.1157\n",
      "Epoch 38/100\n",
      "721/721 [==============================] - 0s 48us/step - loss: 2200.8640\n",
      "Epoch 39/100\n",
      "721/721 [==============================] - 0s 57us/step - loss: 2136.7961\n",
      "Epoch 40/100\n",
      "721/721 [==============================] - 0s 61us/step - loss: 2072.8011\n",
      "Epoch 41/100\n",
      "721/721 [==============================] - 0s 48us/step - loss: 2013.6703\n",
      "Epoch 42/100\n",
      "721/721 [==============================] - 0s 68us/step - loss: 1958.5598\n",
      "Epoch 43/100\n",
      "721/721 [==============================] - 0s 57us/step - loss: 1903.0924\n",
      "Epoch 44/100\n",
      "721/721 [==============================] - 0s 53us/step - loss: 1848.7507\n",
      "Epoch 45/100\n",
      "721/721 [==============================] - 0s 56us/step - loss: 1797.6904\n",
      "Epoch 46/100\n",
      "721/721 [==============================] - 0s 56us/step - loss: 1749.1180\n",
      "Epoch 47/100\n",
      "721/721 [==============================] - 0s 57us/step - loss: 1706.2608\n",
      "Epoch 48/100\n",
      "721/721 [==============================] - 0s 54us/step - loss: 1660.7014\n",
      "Epoch 49/100\n",
      "721/721 [==============================] - 0s 52us/step - loss: 1616.4414\n",
      "Epoch 50/100\n",
      "721/721 [==============================] - 0s 58us/step - loss: 1571.5461\n",
      "Epoch 51/100\n",
      "721/721 [==============================] - 0s 66us/step - loss: 1532.1181\n",
      "Epoch 52/100\n",
      "721/721 [==============================] - 0s 43us/step - loss: 1493.0759\n",
      "Epoch 53/100\n",
      "721/721 [==============================] - 0s 52us/step - loss: 1454.2881\n",
      "Epoch 54/100\n",
      "721/721 [==============================] - 0s 54us/step - loss: 1417.6810\n",
      "Epoch 55/100\n",
      "721/721 [==============================] - 0s 57us/step - loss: 1381.8093\n",
      "Epoch 56/100\n",
      "721/721 [==============================] - 0s 67us/step - loss: 1348.9486\n",
      "Epoch 57/100\n",
      "721/721 [==============================] - 0s 43us/step - loss: 1315.7553\n",
      "Epoch 58/100\n",
      "721/721 [==============================] - 0s 53us/step - loss: 1281.2818\n",
      "Epoch 59/100\n",
      "721/721 [==============================] - 0s 40us/step - loss: 1250.2579\n",
      "Epoch 60/100\n",
      "721/721 [==============================] - 0s 57us/step - loss: 1223.1016\n",
      "Epoch 61/100\n",
      "721/721 [==============================] - 0s 65us/step - loss: 1190.3073\n",
      "Epoch 62/100\n",
      "721/721 [==============================] - 0s 60us/step - loss: 1160.6704\n",
      "Epoch 63/100\n",
      "721/721 [==============================] - 0s 53us/step - loss: 1134.1080\n",
      "Epoch 64/100\n",
      "721/721 [==============================] - 0s 51us/step - loss: 1104.5602\n",
      "Epoch 65/100\n",
      "721/721 [==============================] - 0s 39us/step - loss: 1077.3559\n",
      "Epoch 66/100\n",
      "721/721 [==============================] - 0s 53us/step - loss: 1056.9470\n",
      "Epoch 67/100\n",
      "721/721 [==============================] - 0s 51us/step - loss: 1027.4987\n",
      "Epoch 68/100\n",
      "721/721 [==============================] - 0s 49us/step - loss: 1005.4373\n",
      "Epoch 69/100\n",
      "721/721 [==============================] - 0s 51us/step - loss: 981.7948\n",
      "Epoch 70/100\n",
      "721/721 [==============================] - 0s 44us/step - loss: 953.3232\n",
      "Epoch 71/100\n",
      "721/721 [==============================] - 0s 51us/step - loss: 931.5932\n",
      "Epoch 72/100\n",
      "721/721 [==============================] - 0s 51us/step - loss: 911.8571\n",
      "Epoch 73/100\n",
      "721/721 [==============================] - 0s 59us/step - loss: 886.5840\n",
      "Epoch 74/100\n",
      "721/721 [==============================] - 0s 50us/step - loss: 865.8038\n",
      "Epoch 75/100\n",
      "721/721 [==============================] - 0s 56us/step - loss: 845.3046\n",
      "Epoch 76/100\n",
      "721/721 [==============================] - 0s 54us/step - loss: 825.2518\n",
      "Epoch 77/100\n",
      "721/721 [==============================] - 0s 54us/step - loss: 805.1072\n",
      "Epoch 78/100\n",
      "721/721 [==============================] - 0s 52us/step - loss: 784.0470\n",
      "Epoch 79/100\n",
      "721/721 [==============================] - 0s 61us/step - loss: 766.2723\n",
      "Epoch 80/100\n",
      "721/721 [==============================] - 0s 64us/step - loss: 748.5695\n",
      "Epoch 81/100\n",
      "721/721 [==============================] - 0s 62us/step - loss: 729.8510\n",
      "Epoch 82/100\n",
      "721/721 [==============================] - 0s 58us/step - loss: 715.2844\n",
      "Epoch 83/100\n",
      "721/721 [==============================] - 0s 59us/step - loss: 697.3388\n",
      "Epoch 84/100\n",
      "721/721 [==============================] - 0s 51us/step - loss: 678.5060\n",
      "Epoch 85/100\n",
      "721/721 [==============================] - 0s 54us/step - loss: 663.6411\n",
      "Epoch 86/100\n",
      "721/721 [==============================] - 0s 55us/step - loss: 646.4653\n",
      "Epoch 87/100\n",
      "721/721 [==============================] - 0s 54us/step - loss: 630.6320\n",
      "Epoch 88/100\n",
      "721/721 [==============================] - 0s 54us/step - loss: 614.5878\n",
      "Epoch 89/100\n",
      "721/721 [==============================] - 0s 52us/step - loss: 600.7146\n",
      "Epoch 90/100\n",
      "721/721 [==============================] - 0s 53us/step - loss: 588.0280\n",
      "Epoch 91/100\n",
      "721/721 [==============================] - 0s 53us/step - loss: 573.2572\n",
      "Epoch 92/100\n",
      "721/721 [==============================] - 0s 49us/step - loss: 561.7545\n",
      "Epoch 93/100\n",
      "721/721 [==============================] - 0s 52us/step - loss: 545.7605\n",
      "Epoch 94/100\n",
      "721/721 [==============================] - 0s 53us/step - loss: 533.0536\n",
      "Epoch 95/100\n",
      "721/721 [==============================] - 0s 45us/step - loss: 522.0446\n",
      "Epoch 96/100\n",
      "721/721 [==============================] - 0s 44us/step - loss: 508.5727\n",
      "Epoch 97/100\n",
      "721/721 [==============================] - 0s 66us/step - loss: 496.4095\n",
      "Epoch 98/100\n",
      "721/721 [==============================] - 0s 55us/step - loss: 486.9007\n",
      "Epoch 99/100\n",
      "721/721 [==============================] - 0s 56us/step - loss: 475.5853\n",
      "Epoch 100/100\n",
      "721/721 [==============================] - 0s 57us/step - loss: 463.1882\n"
     ]
    },
    {
     "data": {
      "text/plain": [
       "<keras.callbacks.History at 0x7f09212474d0>"
      ]
     },
     "execution_count": 19,
     "metadata": {},
     "output_type": "execute_result"
    }
   ],
   "source": [
    "#then we fit the model but this time we use 100 epochs instead of 50 to see if there would be a difference in the MSE\n",
    "model.fit(X_train, y_train, epochs=100, verbose=1)"
   ]
  },
  {
   "cell_type": "code",
   "execution_count": 20,
   "id": "a87df5b8-a7a2-46d9-bb11-a0042683d06b",
   "metadata": {
    "tags": []
   },
   "outputs": [
    {
     "name": "stdout",
     "output_type": "stream",
     "text": [
      "309/309 [==============================] - 0s 82us/step\n"
     ]
    },
    {
     "data": {
      "text/plain": [
       "437.7695231514841"
      ]
     },
     "execution_count": 20,
     "metadata": {},
     "output_type": "execute_result"
    }
   ],
   "source": [
    "#next we evaluate our model on the above test data \n",
    "loss_val = model.evaluate(X_test, y_test)\n",
    "y_pred = model.predict(X_test)\n",
    "loss_val"
   ]
  },
  {
   "cell_type": "code",
   "execution_count": 21,
   "id": "86c3f86f-b178-449f-9a7d-ad0d7079bbce",
   "metadata": {
    "tags": []
   },
   "outputs": [],
   "source": [
    "#now we need to calculate the MSE between the theoretical concrete strength and the actual value\n",
    "#to do this, we import the MSE function from sci-kit learn \n",
    "from sklearn.metrics import mean_squared_error"
   ]
  },
  {
   "cell_type": "code",
   "execution_count": 22,
   "id": "6d117813-dac9-40b9-8937-70ba2b997675",
   "metadata": {
    "tags": []
   },
   "outputs": [
    {
     "name": "stdout",
     "output_type": "stream",
     "text": [
      "437.7696380642692 0.0\n"
     ]
    }
   ],
   "source": [
    "mean_square_error = mean_squared_error(y_test, y_pred)\n",
    "mean = np.mean(mean_square_error)\n",
    "standard_deviation = np.std(mean_square_error)\n",
    "print(mean, standard_deviation)"
   ]
  },
  {
   "cell_type": "code",
   "execution_count": 23,
   "id": "7a5aa20a-7744-4c68-8a64-fb26c3dc9ce2",
   "metadata": {
    "tags": []
   },
   "outputs": [
    {
     "name": "stdout",
     "output_type": "stream",
     "text": [
      "MSE 1: 158.82507171137047\n",
      "MSE 2: 143.28765444462354\n",
      "MSE 3: 114.83249328514519\n",
      "MSE 4: 121.83736518440124\n",
      "MSE 5: 119.68823464402875\n",
      "MSE 6: 92.8761249036079\n",
      "MSE 7: 83.65328317784183\n",
      "MSE 8: 53.261096571641446\n",
      "MSE 9: 54.14182755553607\n",
      "MSE 10: 47.61375477861818\n",
      "MSE 11: 43.72839244361062\n",
      "MSE 12: 39.95623829912599\n",
      "MSE 13: 46.13313890352218\n",
      "MSE 14: 45.28889776433556\n",
      "MSE 15: 39.048601687533186\n",
      "MSE 16: 32.57982870675985\n",
      "MSE 17: 39.121373691990925\n",
      "MSE 18: 37.17320140357156\n",
      "MSE 19: 38.78096445324351\n",
      "MSE 20: 37.467617257127486\n",
      "MSE 21: 34.31789067339357\n",
      "MSE 22: 33.76735569358258\n",
      "MSE 23: 31.754065751257837\n",
      "MSE 24: 34.42691728906724\n",
      "MSE 25: 36.15045268481603\n",
      "MSE 26: 35.815947807336705\n",
      "MSE 27: 33.50938898228519\n",
      "MSE 28: 30.679457735475214\n",
      "MSE 29: 37.6245538779447\n",
      "MSE 30: 35.35593146413661\n",
      "MSE 31: 33.49633486602684\n",
      "MSE 32: 33.37761882670875\n",
      "MSE 33: 32.80212609744766\n",
      "MSE 34: 36.246828048360385\n",
      "MSE 35: 36.21572690797083\n",
      "MSE 36: 38.795744257065856\n",
      "MSE 37: 32.93612720279632\n",
      "MSE 38: 36.053269765909434\n",
      "MSE 39: 32.782885826135534\n",
      "MSE 40: 28.538507245505127\n",
      "MSE 41: 38.65506583278619\n",
      "MSE 42: 34.064899642104855\n",
      "MSE 43: 33.125415277326766\n",
      "MSE 44: 39.20405129244413\n",
      "MSE 45: 37.37629482429776\n",
      "MSE 46: 37.07814724622807\n",
      "MSE 47: 36.52536316905593\n",
      "MSE 48: 37.10725071978029\n",
      "MSE 49: 34.75917539010156\n",
      "MSE 50: 37.8110000709114\n",
      "\n",
      "\n",
      "Below is the mean and standard deviation of 50 mean squared errors with normalized data. Where the total number of epochs for each training is: 100\n",
      "\n",
      "Mean: 48.79297865665635\n",
      "Standard Deviation: 30.260643609154133\n"
     ]
    }
   ],
   "source": [
    "total_mean_squared_errors = 50\n",
    "epochs = 100\n",
    "mean_squared_errors = []\n",
    "for i in range(0, total_mean_squared_errors):\n",
    "    X_train, X_test, y_train, y_test = train_test_split(predictors_norm, target, test_size=0.3, random_state=i)\n",
    "    model.fit(X_train, y_train, epochs=epochs, verbose=0)\n",
    "    MSE = model.evaluate(X_test, y_test, verbose=0)\n",
    "    print(\"MSE \"+str(i+1)+\": \"+str(MSE))\n",
    "    y_pred = model.predict(X_test)\n",
    "    mean_square_error = mean_squared_error(y_test, y_pred)\n",
    "    mean_squared_errors.append(mean_square_error)\n",
    "\n",
    "mean_squared_errors = np.array(mean_squared_errors)\n",
    "mean = np.mean(mean_squared_errors)\n",
    "standard_deviation = np.std(mean_squared_errors)\n",
    "\n",
    "print('\\n')\n",
    "print(\"Below is the mean and standard deviation of \" +str(total_mean_squared_errors) + \" mean squared errors with normalized data. Where the total number of epochs for each training is: \" +str(epochs) + \"\\n\")\n",
    "print(\"Mean: \"+str(mean))\n",
    "print(\"Standard Deviation: \"+str(standard_deviation))"
   ]
  },
  {
   "cell_type": "code",
   "execution_count": null,
   "id": "2baae91b-92c5-4010-8d5b-a035d61418e9",
   "metadata": {},
   "outputs": [],
   "source": []
  }
 ],
 "metadata": {
  "kernelspec": {
   "display_name": "Python",
   "language": "python",
   "name": "conda-env-python-py"
  },
  "language_info": {
   "codemirror_mode": {
    "name": "ipython",
    "version": 3
   },
   "file_extension": ".py",
   "mimetype": "text/x-python",
   "name": "python",
   "nbconvert_exporter": "python",
   "pygments_lexer": "ipython3",
   "version": "3.7.12"
  }
 },
 "nbformat": 4,
 "nbformat_minor": 5
}
